{
 "cells": [
  {
   "cell_type": "code",
   "execution_count": 2,
   "metadata": {
    "ExecuteTime": {
     "end_time": "2020-11-30T02:22:23.974013Z",
     "start_time": "2020-11-30T02:22:22.297596Z"
    }
   },
   "outputs": [],
   "source": [
    "# Lidar com dataframes.\n",
    "import numpy as np\n",
    "import pandas as pd\n",
    "\n",
    "import re\n",
    "\n",
    "import requests\n",
    "from bs4 import BeautifulSoup\n",
    "\n",
    "import spacy\n",
    "from spacy import displacy\n",
    "pln = spacy.load('pt_core_news_sm')\n",
    "\n",
    "# Lidar com gráficos.\n",
    "import matplotlib.pyplot as plt\n",
    "import seaborn as sns\n",
    "\n",
    "data_external = \"../data/external/\"\n",
    "data_interim = \"../data/interim/\"\n",
    "data_processed = \"../data/processed/\"\n",
    "\n",
    "pd.set_option('display.max_columns', None)  \n",
    "pd.set_option('display.max_colwidth', None)\n",
    "pd.set_option('display.max_rows', 200)\n",
    "\n",
    "# load the autoreload extension\n",
    "%load_ext autoreload\n",
    "\n",
    "# Set extension to reload modules every time before executing code\n",
    "%autoreload 2"
   ]
  },
  {
   "cell_type": "markdown",
   "metadata": {},
   "source": [
    "### Importanção dos dados em parquet"
   ]
  },
  {
   "cell_type": "code",
   "execution_count": 9,
   "metadata": {
    "ExecuteTime": {
     "end_time": "2020-11-30T02:42:42.585674Z",
     "start_time": "2020-11-30T02:42:42.509515Z"
    }
   },
   "outputs": [
    {
     "output_type": "execute_result",
     "data": {
      "text/plain": [
       "                    PROCESSO          CLASSE  \\\n",
       "0  0033470-92.2019.8.27.2729  Apelação Cível   \n",
       "1  0031168-32.2019.8.27.0000  Apelação Cível   \n",
       "2  0031032-35.2019.8.27.0000  Apelação Cível   \n",
       "\n",
       "                                                                                                                       ASSUNTO  \\\n",
       "0                                                              PASEP, Contribuições Sociais, Contribuições, DIREITO TRIBUTÁRIO   \n",
       "1                                                              PASEP, Contribuições Sociais, Contribuições, DIREITO TRIBUTÁRIO   \n",
       "2  PASEP, Contribuições Sociais, Contribuições, DIREITO TRIBUTÁRIO, Cabimento, Recurso, DIREITO PROCESSUAL CIVIL E DO TRABALHO   \n",
       "\n",
       "                 COMPETENCIA              RELATOR       DATA  TEM_BB  \\\n",
       "0  TURMAS DAS CAMARAS CIVEIS  EURÍPEDES LAMOUNIER 2020-05-13       1   \n",
       "1  TURMAS DAS CAMARAS CIVEIS  EURÍPEDES LAMOUNIER 2019-10-29       1   \n",
       "2  TURMAS DAS CAMARAS CIVEIS  EURÍPEDES LAMOUNIER 2019-10-25       1   \n",
       "\n",
       "                                                                                                                                                                                                                                                                                                                                                            EMENTA  \\\n",
       "0   \\r\\nAPELAÇÃO CÍVEL - AÇÃO DE INDENIZAÇÃO POR DANOS MATERIAIS E MORAIS - SUPOSTOS DESFALQUES NA CONTA PASEP - LEGITIMIDADE PASSIVA BANCO DO BRASIL RECONHECIDA. SENTENÇA CASSADA.\\r\\nVersando a demanda sobre supostos desfalques ocorridos em conta vinculada ao PASEP, o Banco do Brasil é parte legítima para figurar polo passivo, de acordo com o disposto   \n",
       "1    APELAÇÃO CÍVEL - INDENIZATÓRIA - SAQUES EM CONTAS VINCULADAS AO PASEP - LEGITIMIDADE PASSIVA DO BANCO DO BRASIL S/A.\\r\\nVersando a demanda exclusivamente sobre supostos desfalques ocorridos em conta vinculada ao PASEP e a má-gestão dos valores depositados nesta, conforme descrito na inicial, resta evidente a legitimidade passiva do Banco do Brasil   \n",
       "2    APELAÇÃO CÍVEL - INDENIZATÓRIA - SAQUES EM CONTAS VINCULADAS AO PASEP - LEGITIMIDADE PASSIVA DO BANCO DO BRASIL S/A.\\r\\nVersando a demanda exclusivamente sobre supostos desfalques ocorridos em conta vinculada ao PASEP e a má-gestão dos valores depositados nesta, conforme descrito na inicial, resta evidente a legitimidade passiva do Banco do Brasil   \n",
       "\n",
       "   SAFRA_MES  SAFRA_SEMANA  \n",
       "0     202005        202020  \n",
       "1     201910        201944  \n",
       "2     201910        201943  "
      ],
      "text/html": "<div>\n<style scoped>\n    .dataframe tbody tr th:only-of-type {\n        vertical-align: middle;\n    }\n\n    .dataframe tbody tr th {\n        vertical-align: top;\n    }\n\n    .dataframe thead th {\n        text-align: right;\n    }\n</style>\n<table border=\"1\" class=\"dataframe\">\n  <thead>\n    <tr style=\"text-align: right;\">\n      <th></th>\n      <th>PROCESSO</th>\n      <th>CLASSE</th>\n      <th>ASSUNTO</th>\n      <th>COMPETENCIA</th>\n      <th>RELATOR</th>\n      <th>DATA</th>\n      <th>TEM_BB</th>\n      <th>EMENTA</th>\n      <th>SAFRA_MES</th>\n      <th>SAFRA_SEMANA</th>\n    </tr>\n  </thead>\n  <tbody>\n    <tr>\n      <th>0</th>\n      <td>0033470-92.2019.8.27.2729</td>\n      <td>Apelação Cível</td>\n      <td>PASEP, Contribuições Sociais, Contribuições, DIREITO TRIBUTÁRIO</td>\n      <td>TURMAS DAS CAMARAS CIVEIS</td>\n      <td>EURÍPEDES LAMOUNIER</td>\n      <td>2020-05-13</td>\n      <td>1</td>\n      <td>\\r\\nAPELAÇÃO CÍVEL - AÇÃO DE INDENIZAÇÃO POR DANOS MATERIAIS E MORAIS - SUPOSTOS DESFALQUES NA CONTA PASEP - LEGITIMIDADE PASSIVA BANCO DO BRASIL RECONHECIDA. SENTENÇA CASSADA.\\r\\nVersando a demanda sobre supostos desfalques ocorridos em conta vinculada ao PASEP, o Banco do Brasil é parte legítima para figurar polo passivo, de acordo com o disposto</td>\n      <td>202005</td>\n      <td>202020</td>\n    </tr>\n    <tr>\n      <th>1</th>\n      <td>0031168-32.2019.8.27.0000</td>\n      <td>Apelação Cível</td>\n      <td>PASEP, Contribuições Sociais, Contribuições, DIREITO TRIBUTÁRIO</td>\n      <td>TURMAS DAS CAMARAS CIVEIS</td>\n      <td>EURÍPEDES LAMOUNIER</td>\n      <td>2019-10-29</td>\n      <td>1</td>\n      <td>APELAÇÃO CÍVEL - INDENIZATÓRIA - SAQUES EM CONTAS VINCULADAS AO PASEP - LEGITIMIDADE PASSIVA DO BANCO DO BRASIL S/A.\\r\\nVersando a demanda exclusivamente sobre supostos desfalques ocorridos em conta vinculada ao PASEP e a má-gestão dos valores depositados nesta, conforme descrito na inicial, resta evidente a legitimidade passiva do Banco do Brasil</td>\n      <td>201910</td>\n      <td>201944</td>\n    </tr>\n    <tr>\n      <th>2</th>\n      <td>0031032-35.2019.8.27.0000</td>\n      <td>Apelação Cível</td>\n      <td>PASEP, Contribuições Sociais, Contribuições, DIREITO TRIBUTÁRIO, Cabimento, Recurso, DIREITO PROCESSUAL CIVIL E DO TRABALHO</td>\n      <td>TURMAS DAS CAMARAS CIVEIS</td>\n      <td>EURÍPEDES LAMOUNIER</td>\n      <td>2019-10-25</td>\n      <td>1</td>\n      <td>APELAÇÃO CÍVEL - INDENIZATÓRIA - SAQUES EM CONTAS VINCULADAS AO PASEP - LEGITIMIDADE PASSIVA DO BANCO DO BRASIL S/A.\\r\\nVersando a demanda exclusivamente sobre supostos desfalques ocorridos em conta vinculada ao PASEP e a má-gestão dos valores depositados nesta, conforme descrito na inicial, resta evidente a legitimidade passiva do Banco do Brasil</td>\n      <td>201910</td>\n      <td>201943</td>\n    </tr>\n  </tbody>\n</table>\n</div>"
     },
     "metadata": {},
     "execution_count": 9
    }
   ],
   "source": [
    "df_processos = pd.read_parquet(data_external+'df_processos.pqt')\n",
    "df_processos.head(3)"
   ]
  },
  {
   "cell_type": "markdown",
   "metadata": {},
   "source": [
    "## Início do reconhecimento de entidades e do resultado do processo"
   ]
  },
  {
   "cell_type": "code",
   "execution_count": 10,
   "metadata": {},
   "outputs": [
    {
     "output_type": "execute_result",
     "data": {
      "text/plain": [
       "                      PROCESSO          CLASSE  \\\n",
       "338  0028718-19.2019.8.27.0000  Apelação Cível   \n",
       "\n",
       "                                                       ASSUNTO  \\\n",
       "338  Perdas e Danos, Inadimplemento, Obrigações, DIREITO CIVIL   \n",
       "\n",
       "                   COMPETENCIA                        RELATOR       DATA  \\\n",
       "338  TURMAS DAS CAMARAS CIVEIS  ANGELA MARIA RIBEIRO PRUDENTE 2019-10-07   \n",
       "\n",
       "     TEM_BB  \\\n",
       "338       1   \n",
       "\n",
       "                                                                                                                                                                                                                                                                                                                                                         EMENTA  \\\n",
       "338  EMENTA: APELAÇÃO. AÇÃO DE INDENIZAÇÃO POR DANOS MATERIAIS E MORAIS. COBRANÇA DE DIFERENÇAS NO SALDO DA CONTA VINCULADA AO PROGRAMA DE FORMAÇÃO DO PATRIMÔNIO DO SERVIDOR PÚBLICO - PASEP. ILEGITIMIDADE PASSIVA DO RÉU (BANCO DO BRASIL S/A). MERO ADMINISTRADOR DA CONTA VINCULADA. 1. A Lei Complementar nº 08/1970, instituiu o Programa de Formação do   \n",
       "\n",
       "     SAFRA_MES  SAFRA_SEMANA  \n",
       "338     201910        201941  "
      ],
      "text/html": "<div>\n<style scoped>\n    .dataframe tbody tr th:only-of-type {\n        vertical-align: middle;\n    }\n\n    .dataframe tbody tr th {\n        vertical-align: top;\n    }\n\n    .dataframe thead th {\n        text-align: right;\n    }\n</style>\n<table border=\"1\" class=\"dataframe\">\n  <thead>\n    <tr style=\"text-align: right;\">\n      <th></th>\n      <th>PROCESSO</th>\n      <th>CLASSE</th>\n      <th>ASSUNTO</th>\n      <th>COMPETENCIA</th>\n      <th>RELATOR</th>\n      <th>DATA</th>\n      <th>TEM_BB</th>\n      <th>EMENTA</th>\n      <th>SAFRA_MES</th>\n      <th>SAFRA_SEMANA</th>\n    </tr>\n  </thead>\n  <tbody>\n    <tr>\n      <th>338</th>\n      <td>0028718-19.2019.8.27.0000</td>\n      <td>Apelação Cível</td>\n      <td>Perdas e Danos, Inadimplemento, Obrigações, DIREITO CIVIL</td>\n      <td>TURMAS DAS CAMARAS CIVEIS</td>\n      <td>ANGELA MARIA RIBEIRO PRUDENTE</td>\n      <td>2019-10-07</td>\n      <td>1</td>\n      <td>EMENTA: APELAÇÃO. AÇÃO DE INDENIZAÇÃO POR DANOS MATERIAIS E MORAIS. COBRANÇA DE DIFERENÇAS NO SALDO DA CONTA VINCULADA AO PROGRAMA DE FORMAÇÃO DO PATRIMÔNIO DO SERVIDOR PÚBLICO - PASEP. ILEGITIMIDADE PASSIVA DO RÉU (BANCO DO BRASIL S/A). MERO ADMINISTRADOR DA CONTA VINCULADA. 1. A Lei Complementar nº 08/1970, instituiu o Programa de Formação do</td>\n      <td>201910</td>\n      <td>201941</td>\n    </tr>\n  </tbody>\n</table>\n</div>"
     },
     "metadata": {},
     "execution_count": 10
    }
   ],
   "source": [
    "df_processos.sample(random_state=2)"
   ]
  },
  {
   "cell_type": "code",
   "execution_count": 11,
   "metadata": {},
   "outputs": [
    {
     "output_type": "stream",
     "name": "stdout",
     "text": [
      "-------------------------------------------------- \n\n"
     ]
    },
    {
     "output_type": "display_data",
     "data": {
      "text/plain": "<IPython.core.display.HTML object>",
      "text/html": "<span class=\"tex2jax_ignore\"><div class=\"entities\" style=\"line-height: 2.5; direction: ltr\"> é a jurisprudência  majoritária desta corte de justiça:   apelação cível. ação de repação de danos por ato  de improbidade administrativa. falta de  legitimidade ativa ad causam. extinção do feito  sem resolução do mérito. ajuizamento pela fazenda  pública municipal. condenação em custas  processuais e honorários. possibilidade. sentença  mantida</div></span>"
     },
     "metadata": {}
    },
    {
     "output_type": "stream",
     "name": "stdout",
     "text": [
      "-------------------------------------------------- \n\n"
     ]
    },
    {
     "output_type": "display_data",
     "data": {
      "text/plain": "<IPython.core.display.HTML object>",
      "text/html": "<span class=\"tex2jax_ignore\"><div class=\"entities\" style=\"line-height: 2.5; direction: ltr\">ementa\r</br>apelação cível. ação indenizatória. \n<mark class=\"entity\" style=\"background: #ddd; padding: 0.45em 0.6em; margin: 0 0.25em; line-height: 1; border-radius: 0.35em;\">\n    pasep\n    <span style=\"font-size: 0.8em; font-weight: bold; line-height: 1; border-radius: 0.35em; text-transform: uppercase; vertical-align: middle; margin-left: 0.5rem\">PER</span>\n</mark>\n. impugnação ao pedido de assistência judiciária gratuita. afastada. desfalque do saldo. alegação de saques indevidos. sentença que indefere inicial ao argumento da ilegitimidade passiva do \n<mark class=\"entity\" style=\"background: #7aecec; padding: 0.45em 0.6em; margin: 0 0.25em; line-height: 1; border-radius: 0.35em;\">\n    banco do brasil\n    <span style=\"font-size: 0.8em; font-weight: bold; line-height: 1; border-radius: 0.35em; text-transform: uppercase; vertical-align: middle; margin-left: 0.5rem\">ORG</span>\n</mark>\n. \n<mark class=\"entity\" style=\"background: #ddd; padding: 0.45em 0.6em; margin: 0 0.25em; line-height: 1; border-radius: 0.35em;\">\n    equívoco\n    <span style=\"font-size: 0.8em; font-weight: bold; line-height: 1; border-radius: 0.35em; text-transform: uppercase; vertical-align: middle; margin-left: 0.5rem\">PER</span>\n</mark>\n. legitimidade do \n<mark class=\"entity\" style=\"background: #7aecec; padding: 0.45em 0.6em; margin: 0 0.25em; line-height: 1; border-radius: 0.35em;\">\n    banco do brasil\n    <span style=\"font-size: 0.8em; font-weight: bold; line-height: 1; border-radius: 0.35em; text-transform: uppercase; vertical-align: middle; margin-left: 0.5rem\">ORG</span>\n</mark>\n reconhecida. demanda que não discute os índices de</div></span>"
     },
     "metadata": {}
    },
    {
     "output_type": "stream",
     "name": "stdout",
     "text": [
      "-------------------------------------------------- \n\n"
     ]
    },
    {
     "output_type": "display_data",
     "data": {
      "text/plain": "<IPython.core.display.HTML object>",
      "text/html": "<span class=\"tex2jax_ignore\"><div class=\"entities\" style=\"line-height: 2.5; direction: ltr\">ementa: apelação. ação de indenização por danos materiais e morais. cobrança de diferenças no saldo da conta vinculada ao programa de formação do patrimônio do servidor público - pasep. ilegitimidade passiva do \n<mark class=\"entity\" style=\"background: #7aecec; padding: 0.45em 0.6em; margin: 0 0.25em; line-height: 1; border-radius: 0.35em;\">\n    réu\n    <span style=\"font-size: 0.8em; font-weight: bold; line-height: 1; border-radius: 0.35em; text-transform: uppercase; vertical-align: middle; margin-left: 0.5rem\">ORG</span>\n</mark>\n (\n<mark class=\"entity\" style=\"background: #7aecec; padding: 0.45em 0.6em; margin: 0 0.25em; line-height: 1; border-radius: 0.35em;\">\n    banco do brasil\n    <span style=\"font-size: 0.8em; font-weight: bold; line-height: 1; border-radius: 0.35em; text-transform: uppercase; vertical-align: middle; margin-left: 0.5rem\">ORG</span>\n</mark>\n s/a). \n<mark class=\"entity\" style=\"background: #ddd; padding: 0.45em 0.6em; margin: 0 0.25em; line-height: 1; border-radius: 0.35em;\">\n    mero\n    <span style=\"font-size: 0.8em; font-weight: bold; line-height: 1; border-radius: 0.35em; text-transform: uppercase; vertical-align: middle; margin-left: 0.5rem\">PER</span>\n</mark>\n administrador da conta vinculada. 1. a lei complementar nº 08/1970, instituiu o programa de formação do</div></span>"
     },
     "metadata": {}
    }
   ],
   "source": [
    "for item in range(3):\n",
    "    documento = pln((df_processos.sample(random_state=item)[\"EMENTA\"].values[0]).lower())\n",
    "    print(50*\"-\", \"\\n\")\n",
    "    displacy.render(documento, style = 'ent', jupyter = True)"
   ]
  }
 ],
 "metadata": {
  "hide_input": false,
  "kernelspec": {
   "display_name": "Python 3",
   "language": "python",
   "name": "python3"
  },
  "language_info": {
   "codemirror_mode": {
    "name": "ipython",
    "version": 3
   },
   "file_extension": ".py",
   "mimetype": "text/x-python",
   "name": "python",
   "nbconvert_exporter": "python",
   "pygments_lexer": "ipython3",
   "version": "3.8.5-final"
  },
  "toc": {
   "base_numbering": 1,
   "nav_menu": {},
   "number_sections": true,
   "sideBar": true,
   "skip_h1_title": false,
   "title_cell": "Table of Contents",
   "title_sidebar": "Contents",
   "toc_cell": false,
   "toc_position": {},
   "toc_section_display": true,
   "toc_window_display": false
  }
 },
 "nbformat": 4,
 "nbformat_minor": 4
}